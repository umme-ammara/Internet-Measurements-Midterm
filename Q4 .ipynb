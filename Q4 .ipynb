{
 "cells": [
  {
   "cell_type": "code",
   "execution_count": 1,
   "id": "ec8e86a1",
   "metadata": {},
   "outputs": [],
   "source": [
    "import pandas as pd \n",
    "import socket\n",
    "#Read the IP addresses\n",
    "df = pd.read_csv('top-alexa.csv')\n",
    "domain = df['Domain Names']\n"
   ]
  },
  {
   "cell_type": "code",
   "execution_count": 3,
   "id": "7ad0c6bc",
   "metadata": {},
   "outputs": [
    {
     "name": "stderr",
     "output_type": "stream",
     "text": [
      "C:\\Users\\DELL\\AppData\\Local\\Temp/ipykernel_8216/641900248.py:10: SettingWithCopyWarning: \n",
      "A value is trying to be set on a copy of a slice from a DataFrame\n",
      "\n",
      "See the caveats in the documentation: https://pandas.pydata.org/pandas-docs/stable/user_guide/indexing.html#returning-a-view-versus-a-copy\n",
      "  domain[i] = ip\n"
     ]
    },
    {
     "name": "stdout",
     "output_type": "stream",
     "text": [
      "29\n"
     ]
    }
   ],
   "source": [
    "#print(domain)\n",
    "notconvert = []\n",
    "domainlist = []\n",
    "iplist = []\n",
    "#Covert to IP addresses\n",
    "for i in range(len(domain)):\n",
    "    d = domain[i]\n",
    "    try: \n",
    "        ip = socket.gethostbyname(d)\n",
    "        domain[i] = ip \n",
    "        domainlist.append(d)\n",
    "        iplist.append(ip)\n",
    "        #print(i,d,ip)\n",
    "    except:\n",
    "        #print(i,d)\n",
    "        notconvert.append(i)\n",
    "        \n",
    "print(len(notconvert)) #29 domains that could not be converted -> discard these from the dataset\n",
    "\n",
    "#for i in notconvert:\n",
    "#    domain.drop(index=i,inplace=True)\n",
    "    \n",
    "#domain.reset_index(drop=True,inplace=True)\n",
    "#print(domain)\n",
    "    "
   ]
  },
  {
   "cell_type": "code",
   "execution_count": 4,
   "id": "4012e0a8",
   "metadata": {},
   "outputs": [],
   "source": [
    "#Covert domain and ip lists to file output \n",
    "textfile = open(\"domains.txt\", \"w\")\n",
    "for d in domainlist:\n",
    "    textfile.write(d + \"\\n\")\n",
    "textfile.close()\n",
    "\n",
    "textfile2 = open(\"ip.txt\",\"w\")\n",
    "for ip in iplist:\n",
    "    textfile2.write(ip + \"\\n\")\n",
    "textfile2.close()"
   ]
  },
  {
   "cell_type": "code",
   "execution_count": 5,
   "id": "e4f7492f",
   "metadata": {},
   "outputs": [
    {
     "name": "stdout",
     "output_type": "stream",
     "text": [
      "0      google.com is Hosted on\\nGoogle LLC\\nIP Addres...\n",
      "1      youtube.com is Hosted on\\nGoogle LLC\\nIP Addre...\n",
      "2      tmall.com is Hosted on\\nChina Internet Network...\n",
      "3      qq.com is Hosted on\\nChina Telecom (Group)\\nIP...\n",
      "4      baidu.com is Hosted on\\nIDC, China Telecommuni...\n",
      "                             ...                        \n",
      "465    pipedrive.com is Hosted on\\nCloudflare, Inc.\\n...\n",
      "466    bukalapak.com is Hosted on\\nGoogle LLC\\nIP Add...\n",
      "467    royalbank.com is Hosted on\\nInternet Media Net...\n",
      "468    daraz.pk is Hosted on\\nAlibaba (US) Technology...\n",
      "469    house365.com is Hosted on\\nShenzhen Tencent Co...\n",
      "Name: list1_selection2, Length: 470, dtype: object\n"
     ]
    }
   ],
   "source": [
    "#test = \"yahoo.co.jp is Hosted on YAHOO IP Address: 183.79.250.123 (Tokyo, Japan) route-admin@mail.yahoo.co.jp +000000000\"\n",
    "d = pd.read_csv('scrape_results.csv')\n",
    "info = d['list1_selection2'] #The info contains Ip, web host provider name, and the country location\n",
    "print(info)"
   ]
  },
  {
   "cell_type": "code",
   "execution_count": 20,
   "id": "0461961b",
   "metadata": {},
   "outputs": [
    {
     "name": "stdout",
     "output_type": "stream",
     "text": [
      "Counter({'States': 178, 'Kingdom': 72, 'China': 45, 'Canada': 34, 'Netherlands': 23, 'Singapore': 14, 'Russia': 12, 'Japan': 11, 'Ireland': 10, 'Iran': 9, 'France': 9, 'Germany': 8, 'Taiwan': 8, 'Korea': 6, 'India': 6, 'Bulgaria': 3, 'Kong': 3, 'Brazil': 2, '': 2, 'Poland': 2, 'Italy': 2, 'Australia': 1, 'Indonesia': 1, 'Vietnam': 1, 'Spain': 1, 'Austria': 1, 'Turkey': 1, 'Kazakhstan': 1, 'Iceland': 1, 'Thailand': 1, 'Czechia': 1, 'Switzerland': 1})\n"
     ]
    }
   ],
   "source": [
    "import re \n",
    "from collections import Counter\n",
    "\n",
    "ipaddr = []\n",
    "country = []\n",
    "webhosts = []\n",
    "\n",
    "for j in range(len(info)):\n",
    "    i = info[j]\n",
    "    #print(i)\n",
    "    web = re.search('\\n(.*)\\n',i)\n",
    "    web2 = web.group(1)\n",
    "    webhosts.append(web2)\n",
    "    addr = re.search(\"IP Address:(.*)\",i)\n",
    "    #print(addr)\n",
    "    addr2 = addr.group(1).split()\n",
    "    #print(addr2)\n",
    "    length = len(addr2)\n",
    "    ip1 = addr2[0]\n",
    "    ipaddr.append(ip1)\n",
    "    loc = addr2[length-1][:-1]\n",
    "    country.append(loc)\n",
    "\n",
    "\n",
    "#print(webhosts)\n",
    "#print(ipaddr)\n",
    "print(Counter(country))"
   ]
  },
  {
   "cell_type": "code",
   "execution_count": 8,
   "id": "65c31fb5",
   "metadata": {},
   "outputs": [
    {
     "name": "stdout",
     "output_type": "stream",
     "text": [
      "                                              Web host       IP Address  \\\n",
      "0                                           Google LLC  172.217.168.238   \n",
      "1                                           Google LLC  142.250.179.174   \n",
      "2            China Internet Network Information Center   140.205.130.99   \n",
      "3                                China Telecom (Group)     183.3.226.35   \n",
      "4            IDC, China Telecommunications Corporation   220.181.38.148   \n",
      "..                                                 ...              ...   \n",
      "465                                   Cloudflare, Inc.   104.18.189.228   \n",
      "466                                         Google LLC    34.120.254.97   \n",
      "467                             Internet Media Network    204.74.99.100   \n",
      "468                  Alibaba (US) Technology Co., Ltd.     47.89.75.238   \n",
      "469  Shenzhen Tencent Computer Systems Company Limited  212.129.162.135   \n",
      "\n",
      "         Country  \n",
      "0    Netherlands  \n",
      "1    Netherlands  \n",
      "2          China  \n",
      "3          China  \n",
      "4          China  \n",
      "..           ...  \n",
      "465       States  \n",
      "466       States  \n",
      "467       States  \n",
      "468    Singapore  \n",
      "469        China  \n",
      "\n",
      "[470 rows x 3 columns]\n"
     ]
    }
   ],
   "source": [
    "data = {'Web host': webhosts, 'IP Address': ipaddr, 'Country': country}\n",
    "newdf = pd.DataFrame(data)\n",
    "print(newdf)"
   ]
  },
  {
   "cell_type": "code",
   "execution_count": 23,
   "id": "3e8b0480",
   "metadata": {},
   "outputs": [
    {
     "name": "stdout",
     "output_type": "stream",
     "text": [
      "Hostgator  0\n",
      "GoDaddy 0\n",
      "Bluehost 0\n",
      "Ipage 0\n",
      "Web Hosting Talk 0\n",
      "Inmotion Hosting 0\n",
      "Softlayer 0\n",
      "ReverbNation 0\n",
      "Homestead 0\n",
      "Site5 0\n",
      "Linode 0\n",
      "Fatcow 0\n",
      "Dreamhost 0\n",
      "Liquidweb 0\n",
      "Web  0\n",
      "He.net 0\n",
      "Ixwebhosting 0\n",
      "Rackspace 0\n",
      "Nexcess 0\n",
      "Netfirms 0\n",
      "Number of Hosting providers found in the dataset =  0\n"
     ]
    }
   ],
   "source": [
    "#Read the webhosts\n",
    "w = pd.read_csv('hosts.csv')\n",
    "web = w['Webhost'] \n",
    "check = newdf['Web host'].tolist()\n",
    "#print(check)\n",
    "count = 0 \n",
    "for host in web:\n",
    "    if host in check:\n",
    "        count = count + 1 \n",
    "    else:\n",
    "        pass \n",
    "    print(host,count)\n",
    "print(\"Number of Hosting providers found in the dataset = \", count)\n",
    "\n",
    "counter = Counter(check) #Co-located websites \n",
    "#print(counter) -> uncomment to print co-located hosting providers "
   ]
  },
  {
   "cell_type": "code",
   "execution_count": null,
   "id": "d19d315d",
   "metadata": {},
   "outputs": [],
   "source": []
  }
 ],
 "metadata": {
  "kernelspec": {
   "display_name": "Python 3 (ipykernel)",
   "language": "python",
   "name": "python3"
  },
  "language_info": {
   "codemirror_mode": {
    "name": "ipython",
    "version": 3
   },
   "file_extension": ".py",
   "mimetype": "text/x-python",
   "name": "python",
   "nbconvert_exporter": "python",
   "pygments_lexer": "ipython3",
   "version": "3.9.1"
  }
 },
 "nbformat": 4,
 "nbformat_minor": 5
}
